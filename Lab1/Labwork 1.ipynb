{
 "cells": [
  {
   "cell_type": "markdown",
   "id": "2cb9cf38",
   "metadata": {},
   "source": [
    "# 1. Markdown cells\n",
    "   * trial line 1\n",
    "   * trial line 2\n",
    "   * [referense line](https://www.google.com.ua/?hl=ru)"
   ]
  },
  {
   "cell_type": "markdown",
   "id": "e7aaf95a",
   "metadata": {},
   "source": [
    "# Heading1\n",
    "\n",
    "## Heading2\n",
    "\n",
    "Quoted text: \n",
    ">So, what about methods?"
   ]
  },
  {
   "cell_type": "markdown",
   "id": "b943a2e5",
   "metadata": {},
   "source": [
    "Of corse somthing intereste. Math part:\n",
    "$$ y_{sub} = \\sqrt(x_{sub}) $$"
   ]
  },
  {
   "cell_type": "markdown",
   "id": "613fb8c0",
   "metadata": {},
   "source": [
    "Python code:"
   ]
  },
  {
   "cell_type": "code",
   "execution_count": 10,
   "id": "f8e7f25f",
   "metadata": {},
   "outputs": [],
   "source": [
    "import math\n",
    "def foo():\n",
    "    return foo"
   ]
  }
 ],
 "metadata": {
  "kernelspec": {
   "display_name": "Python 3",
   "language": "python",
   "name": "python3"
  },
  "language_info": {
   "codemirror_mode": {
    "name": "ipython",
    "version": 3
   },
   "file_extension": ".py",
   "mimetype": "text/x-python",
   "name": "python",
   "nbconvert_exporter": "python",
   "pygments_lexer": "ipython3",
   "version": "3.8.8"
  }
 },
 "nbformat": 4,
 "nbformat_minor": 5
}
